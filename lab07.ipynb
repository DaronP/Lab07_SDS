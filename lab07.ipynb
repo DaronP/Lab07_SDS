{
  "cells": [
    {
      "cell_type": "markdown",
      "metadata": {
        "id": "HB0uwpZjY8Ii"
      },
      "source": [
        "Laboratorio 7\n",
        "\n",
        "- Cristopher Barrios\n",
        "- Sebastian Recinos\n",
        "- Jorge Perez"
      ]
    },
    {
      "cell_type": "code",
      "execution_count": 1,
      "metadata": {
        "id": "paOXmUTuY8Im"
      },
      "outputs": [],
      "source": [
        "#Importando libs\n",
        "import numpy as np\n",
        "from glob import glob\n",
        "import scipy\n",
        "from scipy.io import wavfile\n",
        "import scipy.fftpack as fft\n",
        "from scipy.signal import get_window\n",
        "import matplotlib.pyplot as plt\n",
        "from random import randint\n",
        "from tqdm import tqdm\n",
        "import pandas as pd\n",
        "import cv2\n",
        "from PIL import Image\n",
        "from statistics import mode\n",
        "import tensorflow as tf\n",
        "from tensorflow import keras\n",
        "from tensorflow.keras import layers\n",
        "from sklearn import metrics, model_selection\n",
        "from keras.models import Sequential\n",
        "import seaborn as sns\n",
        "import pickle\n",
        "from sklearn.metrics import roc_auc_score"
      ]
    },
    {
      "cell_type": "code",
      "execution_count": 2,
      "metadata": {
        "colab": {
          "base_uri": "https://localhost:8080/"
        },
        "id": "paZepYhfZCNR",
        "outputId": "1e74a240-cc17-4dc6-83c5-17d0274a67d7"
      },
      "outputs": [],
      "source": [
        "googl = False\n",
        "\n",
        "try:\n",
        "    from google.colab import drive\n",
        "    drive.mount('/content/drive')\n",
        "    googl = True\n",
        "except:\n",
        "    googl = False"
      ]
    },
    {
      "cell_type": "markdown",
      "metadata": {
        "id": "xkSuy6uXY8Io"
      },
      "source": [
        "Pre-Procesamiento"
      ]
    },
    {
      "cell_type": "code",
      "execution_count": 3,
      "metadata": {
        "colab": {
          "base_uri": "https://localhost:8080/"
        },
        "id": "b5BPwxh9Y8Io",
        "outputId": "eee209cb-1837-492a-b8d3-0bb7c0e98fb1"
      },
      "outputs": [
        {
          "name": "stdout",
          "output_type": "stream",
          "text": [
            "Adialer.C :  122\n",
            "Agent.FYI :  116\n",
            "Allaple.A :  2949\n",
            "Allaple.L :  1591\n",
            "Alueron.gen!J :  198\n",
            "Autorun.K :  106\n",
            "C2LOP.gen!G :  200\n",
            "C2LOP.P :  146\n",
            "Dialplatform.B :  177\n",
            "Dontovo.A :  162\n",
            "Fakerean :  381\n",
            "Instantaccess :  431\n",
            "Lolyda.AA1 :  213\n",
            "Lolyda.AA2 :  184\n",
            "Lolyda.AA3 :  123\n",
            "Lolyda.AT :  159\n",
            "Malex.gen!J :  136\n",
            "Obfuscator.AD :  142\n",
            "Rbot!gen :  158\n",
            "Skintrim.N :  80\n",
            "Swizzor.gen!E :  128\n",
            "Swizzor.gen!I :  132\n",
            "VB.AT :  408\n",
            "Wintrim.BX :  97\n",
            "Yuner.A :  800\n"
          ]
        }
      ],
      "source": [
        "#Importando dataset\n",
        "data_dict = {'Adialer.C': [], \n",
        "             'Agent.FYI': [], \n",
        "             'Allaple.A': [], \n",
        "             'Allaple.L': [], \n",
        "             'Alueron.gen!J': [], \n",
        "             'Autorun.K': [], \n",
        "             'C2LOP.gen!G': [], \n",
        "             'C2LOP.P': [], \n",
        "             'Dialplatform.B': [], \n",
        "             'Dontovo.A': [], \n",
        "             'Fakerean': [], \n",
        "             'Instantaccess': [], \n",
        "             'Lolyda.AA1': [], \n",
        "             'Lolyda.AA2': [], \n",
        "             'Lolyda.AA3': [], \n",
        "             'Lolyda.AT': [], \n",
        "             'Malex.gen!J': [], \n",
        "             'Obfuscator.AD': [], \n",
        "             'Rbot!gen': [], \n",
        "             'Skintrim.N': [], \n",
        "             'Swizzor.gen!E': [], \n",
        "             'Swizzor.gen!I': [], \n",
        "             'VB.AT': [], \n",
        "             'Wintrim.BX': [], \n",
        "             'Yuner.A': []}\n",
        "\n",
        "for i in data_dict:\n",
        "    try:\n",
        "        if googl:\n",
        "            data_dict[i] = glob('/content/drive/MyDrive/Lab7sds/malimg_paper_dataset_imgs/' + i + '/*.png')\n",
        "            print(i, ': ', len(data_dict[i]))\n",
        "        else:\n",
        "            data_dict[i] = glob('./malimg_paper_dataset_imgs/' + i + '/*.png')\n",
        "            print(i, ': ', len(data_dict[i]))\n",
        "    \n",
        "    except:\n",
        "        print('ERROR en ', i)\n",
        "\n",
        "for i in data_dict:\n",
        "    for j in range(len(data_dict[i])):\n",
        "        \n",
        "        data_dict[i][j] = data_dict[i][j].replace(\"\\\\\", '/')"
      ]
    },
    {
      "cell_type": "code",
      "execution_count": 4,
      "metadata": {
        "colab": {
          "base_uri": "https://localhost:8080/"
        },
        "id": "XQJ3GvMWY8Iq",
        "outputId": "b6094d86-fae9-402f-e075-6a6aee22dd25"
      },
      "outputs": [
        {
          "name": "stdout",
          "output_type": "stream",
          "text": [
            "15\n",
            "146 <----------------- numero de datos a los que se acortaran los mayores a 200\n"
          ]
        }
      ],
      "source": [
        "#Extrayendo media de longitudes mayores a 100 y menores a 200\n",
        "\n",
        "count = 0\n",
        "lengths_count = 0\n",
        "\n",
        "for i in data_dict:\n",
        "    l = len(data_dict[i])\n",
        "    if l > 100 and l < 200:\n",
        "        count += 1\n",
        "        lengths_count += l\n",
        "\n",
        "l_mean = int(round(lengths_count/count))\n",
        "\n",
        "print(count)\n",
        "print(l_mean, '<----------------- numero de datos a los que se acortaran los mayores a 200')"
      ]
    },
    {
      "cell_type": "markdown",
      "metadata": {
        "id": "YuCw8UXKY8Ir"
      },
      "source": [
        "Extrayendo datos de tamaño de imagenes"
      ]
    },
    {
      "cell_type": "code",
      "execution_count": 5,
      "metadata": {
        "colab": {
          "base_uri": "https://localhost:8080/"
        },
        "id": "p-lcDAG-Y8Ir",
        "outputId": "688df42c-2636-4243-e1dc-0d556d316ca9"
      },
      "outputs": [
        {
          "name": "stdout",
          "output_type": "stream",
          "text": [
            "Width min:  64\n",
            "Width max:  1024\n",
            "Length min:  208\n",
            "Length max:  5334\n",
            "Width mean:  334\n",
            "Length mean:  437\n",
            "Width mode:  256\n",
            "Length mode:  452\n",
            "<class 'numpy.ndarray'>\n"
          ]
        }
      ],
      "source": [
        "shape_list = []\n",
        "for i in data_dict:\n",
        "    for j in range(len(data_dict[i])):\n",
        "        im = cv2.imread(data_dict[i][j])\n",
        "        shape_list.append(im.shape)\n",
        "    \n",
        "\n",
        "\n",
        "length = 0\n",
        "width = 0\n",
        "l_length = []\n",
        "l_width = []\n",
        "\n",
        "for i in shape_list:\n",
        "    length += i[0]\n",
        "    l_length.append(i[0])\n",
        "    width += i[1]\n",
        "    l_width.append(i[1])\n",
        "\n",
        "print('Width min: ', min(l_width))\n",
        "print('Width max: ', max(l_width))\n",
        "print('Length min: ', min(l_length))\n",
        "print('Length max: ', max(l_length))\n",
        "print('Width mean: ', int(round(width/len(shape_list))))\n",
        "print('Length mean: ', int(round(length/len(shape_list))))\n",
        "print('Width mode: ', mode(l_width))\n",
        "print('Length mode: ', mode(l_length))\n",
        "print(type(im))"
      ]
    },
    {
      "cell_type": "markdown",
      "metadata": {
        "id": "mk28ljC1Y8Is"
      },
      "source": [
        "Emparejando datos"
      ]
    },
    {
      "cell_type": "code",
      "execution_count": 6,
      "metadata": {
        "colab": {
          "base_uri": "https://localhost:8080/"
        },
        "id": "AlqCBihxY8It",
        "outputId": "38d22f38-6727-4dba-fff8-ff2ed4cc3c2c"
      },
      "outputs": [
        {
          "name": "stdout",
          "output_type": "stream",
          "text": [
            "Classes to remove:  ['Skintrim.N', 'Wintrim.BX']\n",
            "25\n",
            "23\n"
          ]
        }
      ],
      "source": [
        "#Se eliminaran los datos menores a 100\n",
        "\n",
        "to_delete = []\n",
        "\n",
        "for i in data_dict:\n",
        "    l = len(data_dict[i])\n",
        "    if l < 100:\n",
        "        to_delete.append(i)\n",
        "\n",
        "print('Classes to remove: ', to_delete)\n",
        "\n",
        "print(len(data_dict))\n",
        "\n",
        "for i in to_delete:\n",
        "    data_dict.pop(i)\n",
        "\n",
        "print(len(data_dict))"
      ]
    },
    {
      "cell_type": "code",
      "execution_count": 7,
      "metadata": {
        "colab": {
          "base_uri": "https://localhost:8080/"
        },
        "id": "Zmybs-5mY8It",
        "outputId": "26d4466c-6aae-402d-ae6d-412e7cb000ad"
      },
      "outputs": [
        {
          "name": "stdout",
          "output_type": "stream",
          "text": [
            "Adialer.C :  122\n",
            "Agent.FYI :  116\n",
            "Allaple.A :  146\n",
            "Allaple.L :  146\n",
            "Alueron.gen!J :  198\n",
            "Autorun.K :  106\n",
            "C2LOP.gen!G :  200\n",
            "C2LOP.P :  146\n",
            "Dialplatform.B :  177\n",
            "Dontovo.A :  162\n",
            "Fakerean :  146\n",
            "Instantaccess :  146\n",
            "Lolyda.AA1 :  146\n",
            "Lolyda.AA2 :  184\n",
            "Lolyda.AA3 :  123\n",
            "Lolyda.AT :  159\n",
            "Malex.gen!J :  136\n",
            "Obfuscator.AD :  142\n",
            "Rbot!gen :  158\n",
            "Swizzor.gen!E :  128\n",
            "Swizzor.gen!I :  132\n",
            "VB.AT :  146\n",
            "Yuner.A :  146\n"
          ]
        }
      ],
      "source": [
        "#Se acortaran los datos mayores a 200 a la media anteriormente calculada\n",
        "\n",
        "for i in data_dict:\n",
        "    l = len(data_dict[i])\n",
        "    if l > 200:\n",
        "        indexes_size = l - l_mean\n",
        "        del_list = []\n",
        "\n",
        "        for j in range(indexes_size):\n",
        "            x = randint(0, (l - 1))\n",
        "            if x not in del_list:\n",
        "                del_list.append(x)\n",
        "            \n",
        "            else:\n",
        "                dupped = True\n",
        "                \n",
        "                while dupped:\n",
        "                    x = randint(0, (l - 1))\n",
        "                    if x not in del_list:\n",
        "                        del_list.append(x)\n",
        "                        dupped = False\n",
        "        \n",
        "        for j in sorted(del_list, reverse=True): \n",
        "            del data_dict[i][j]\n",
        "\n",
        "for i in data_dict:\n",
        "    print(i, ': ', len(data_dict[i]))\n",
        "\n",
        "\n"
      ]
    },
    {
      "cell_type": "markdown",
      "metadata": {
        "id": "XTJfGy5DY8Iu"
      },
      "source": [
        "Reshaping images"
      ]
    },
    {
      "cell_type": "code",
      "execution_count": 8,
      "metadata": {
        "id": "ExMXzl8uY8Iu"
      },
      "outputs": [],
      "source": [
        "df_dict = {'Adialer.C': [], \n",
        "             'Agent.FYI': [], \n",
        "             'Allaple.A': [], \n",
        "             'Allaple.L': [], \n",
        "             'Alueron.gen!J': [], \n",
        "             'Autorun.K': [], \n",
        "             'C2LOP.gen!G': [], \n",
        "             'C2LOP.P': [], \n",
        "             'Dialplatform.B': [], \n",
        "             'Dontovo.A': [], \n",
        "             'Fakerean': [], \n",
        "             'Instantaccess': [], \n",
        "             'Lolyda.AA1': [], \n",
        "             'Lolyda.AA2': [], \n",
        "             'Lolyda.AA3': [], \n",
        "             'Lolyda.AT': [], \n",
        "             'Malex.gen!J': [], \n",
        "             'Obfuscator.AD': [], \n",
        "             'Rbot!gen': [], \n",
        "             'Swizzor.gen!E': [], \n",
        "             'Swizzor.gen!I': [], \n",
        "             'VB.AT': [],\n",
        "             'Yuner.A': []}\n",
        "\n",
        "im_size = (128, 128)\n",
        "\n",
        "for i in data_dict:\n",
        "    image_list = []\n",
        "    for j in range(len(data_dict[i])):\n",
        "        im = cv2.imread(data_dict[i][j])\n",
        "        im = cv2.resize(im, im_size)\n",
        "        image_list.append(im)\n",
        "    \n",
        "    df_dict[i] = image_list"
      ]
    },
    {
      "cell_type": "markdown",
      "metadata": {
        "id": "Ha6HpHOkY8Iv"
      },
      "source": [
        "Plotteando una imagen por cada falimia de malware"
      ]
    },
    {
      "cell_type": "code",
      "execution_count": 9,
      "metadata": {
        "colab": {
          "base_uri": "https://localhost:8080/",
          "height": 1000
        },
        "id": "vMkV40RHY8Iv",
        "outputId": "37eea5cb-c9e4-49e2-e4c9-938fff57e93d"
      },
      "outputs": [],
      "source": [
        "x = randint(0, 100)\n",
        "\n",
        "images = []\n",
        "plot = False\n",
        "\n",
        "if plot:\n",
        "\n",
        "    for i in df_dict:\n",
        "        img = df_dict[i][x]\n",
        "        plt.figure()\n",
        "        plt.title(i)\n",
        "        plt.imshow(img)\n",
        "        print(img.shape)"
      ]
    },
    {
      "cell_type": "markdown",
      "metadata": {
        "id": "BOHfXglFY8Iw"
      },
      "source": [
        "Conviertiendo diccionario a dataframe"
      ]
    },
    {
      "cell_type": "code",
      "execution_count": 10,
      "metadata": {
        "colab": {
          "base_uri": "https://localhost:8080/"
        },
        "id": "c9wDul_QY8Iw",
        "outputId": "d6a0c009-8e5d-4ad4-fa73-fbdf31cc543d"
      },
      "outputs": [
        {
          "name": "stdout",
          "output_type": "stream",
          "text": [
            "       Label                                              Image\n",
            "0  Adialer.C  [[[87, 87, 87], [7, 7, 7], [0, 0, 0], [0, 0, 0...\n",
            "1  Adialer.C  [[[0, 0, 0], [0, 0, 0], [97, 97, 97], [44, 44,...\n",
            "2  Adialer.C  [[[0, 0, 0], [0, 0, 0], [96, 96, 96], [44, 44,...\n",
            "3  Adialer.C  [[[87, 87, 87], [7, 7, 7], [0, 0, 0], [0, 0, 0...\n",
            "4  Adialer.C  [[[87, 87, 87], [7, 7, 7], [0, 0, 0], [0, 0, 0...\n"
          ]
        }
      ],
      "source": [
        "data = dict()\n",
        "label_list = []\n",
        "im_list = []\n",
        "for i in df_dict:\n",
        "    for j in df_dict[i]:\n",
        "        label_list.append(i)\n",
        "        im_list.append(j)\n",
        "\n",
        "data['Label'] = label_list\n",
        "data['Image'] = im_list\n",
        "\n",
        "data_dict = {}\n",
        "df_dict = {}\n",
        "\n",
        "df = pd.DataFrame.from_dict(data)\n",
        "\n",
        "print(df.head())"
      ]
    },
    {
      "cell_type": "code",
      "execution_count": 11,
      "metadata": {
        "colab": {
          "base_uri": "https://localhost:8080/"
        },
        "id": "sGRzAh-8Y8Ix",
        "outputId": "a4f4dbfd-de6b-4c68-d48b-bfa6171085b7"
      },
      "outputs": [],
      "source": [
        "df['Label_arrays'] = df['Label'].apply(lambda l: [1, 0, 0, 0, 0, 0, 0, 0, 0, 0, 0, 0, 0, 0, 0, 0, 0, 0, 0, 0, 0, 0, 0] if l == 'Adialer.C' \\\n",
        "                                            else [0, 1, 0, 0, 0, 0, 0, 0, 0, 0, 0, 0, 0, 0, 0, 0, 0, 0, 0, 0, 0, 0, 0] if l == 'Agent.FYI' \\\n",
        "                                            else [0, 0, 1, 0, 0, 0, 0, 0, 0, 0, 0, 0, 0, 0, 0, 0, 0, 0, 0, 0, 0, 0, 0] if l == 'Allaple.A' \\\n",
        "                                            else [0, 0, 0, 1, 0, 0, 0, 0, 0, 0, 0, 0, 0, 0, 0, 0, 0, 0, 0, 0, 0, 0, 0] if l == 'Allaple.L' \\\n",
        "                                            else [0, 0, 0, 0, 1, 0, 0, 0, 0, 0, 0, 0, 0, 0, 0, 0, 0, 0, 0, 0, 0, 0, 0] if l == 'Alueron.gen!J' \\\n",
        "                                            else [0, 0, 0, 0, 0, 1, 0, 0, 0, 0, 0, 0, 0, 0, 0, 0, 0, 0, 0, 0, 0, 0, 0] if l == 'Autorun.K' \\\n",
        "                                            else [0, 0, 0, 0, 0, 0, 1, 0, 0, 0, 0, 0, 0, 0, 0, 0, 0, 0, 0, 0, 0, 0, 0] if l == 'C2LOP.gen!G' \\\n",
        "                                            else [0, 0, 0, 0, 0, 0, 0, 1, 0, 0, 0, 0, 0, 0, 0, 0, 0, 0, 0, 0, 0, 0, 0] if l == 'C2LOP.P' \\\n",
        "                                            else [0, 0, 0, 0, 0, 0, 0, 0, 1, 0, 0, 0, 0, 0, 0, 0, 0, 0, 0, 0, 0, 0, 0] if l == 'Dialplatform.B' \\\n",
        "                                            else [0, 0, 0, 0, 0, 0, 0, 0, 0, 1, 0, 0, 0, 0, 0, 0, 0, 0, 0, 0, 0, 0, 0] if l == 'Dontovo.A' \\\n",
        "                                            else [0, 0, 0, 0, 0, 0, 0, 0, 0, 0, 1, 0, 0, 0, 0, 0, 0, 0, 0, 0, 0, 0, 0] if l == 'Fakerean' \\\n",
        "                                            else [0, 0, 0, 0, 0, 0, 0, 0, 0, 0, 0, 1, 0, 0, 0, 0, 0, 0, 0, 0, 0, 0, 0] if l == 'Instantaccess' \\\n",
        "                                            else [0, 0, 0, 0, 0, 0, 0, 0, 0, 0, 0, 0, 1, 0, 0, 0, 0, 0, 0, 0, 0, 0, 0] if l == 'Lolyda.AA1' \\\n",
        "                                            else [0, 0, 0, 0, 0, 0, 0, 0, 0, 0, 0, 0, 0, 1, 0, 0, 0, 0, 0, 0, 0, 0, 0] if l == 'Lolyda.AA2' \\\n",
        "                                            else [0, 0, 0, 0, 0, 0, 0, 0, 0, 0, 0, 0, 0, 0, 1, 0, 0, 0, 0, 0, 0, 0, 0] if l == 'Lolyda.AA3' \\\n",
        "                                            else [0, 0, 0, 0, 0, 0, 0, 0, 0, 0, 0, 0, 0, 0, 0, 1, 0, 0, 0, 0, 0, 0, 0] if l == 'Lolyda.AT' \\\n",
        "                                            else [0, 0, 0, 0, 0, 0, 0, 0, 0, 0, 0, 0, 0, 0, 0, 0, 1, 0, 0, 0, 0, 0, 0] if l == 'Malex.gen!J' \\\n",
        "                                            else [0, 0, 0, 0, 0, 0, 0, 0, 0, 0, 0, 0, 0, 0, 0, 0, 0, 1, 0, 0, 0, 0, 0] if l == 'Obfuscator.AD' \\\n",
        "                                            else [0, 0, 0, 0, 0, 0, 0, 0, 0, 0, 0, 0, 0, 0, 0, 0, 0, 0, 1, 0, 0, 0, 0] if l == 'Rbot!gen' \\\n",
        "                                            else [0, 0, 0, 0, 0, 0, 0, 0, 0, 0, 0, 0, 0, 0, 0, 0, 0, 0, 0, 1, 0, 0, 0] if l == 'Swizzor.gen!E' \\\n",
        "                                            else [0, 0, 0, 0, 0, 0, 0, 0, 0, 0, 0, 0, 0, 0, 0, 0, 0, 0, 0, 0, 1, 0, 0] if l == 'Swizzor.gen!I' \\\n",
        "                                            else [0, 0, 0, 0, 0, 0, 0, 0, 0, 0, 0, 0, 0, 0, 0, 0, 0, 0, 0, 0, 0, 1, 0] if l == 'VB.AT' \\\n",
        "                                            else [0, 0, 0, 0, 0, 0, 0, 0, 0, 0, 0, 0, 0, 0, 0, 0, 0, 0, 0, 0, 0, 0, 1])"
      ]
    },
    {
      "cell_type": "code",
      "execution_count": 12,
      "metadata": {
        "id": "oN6iLpW_nuZl"
      },
      "outputs": [],
      "source": [
        "#Guardando en pickle\n",
        "#df.to_pickle('/content/drive/MyDrive/Lab7sds/1/dataframe.pkl')"
      ]
    },
    {
      "cell_type": "markdown",
      "metadata": {
        "id": "eO4FYwSzkWxk"
      },
      "source": [
        "Creando Modelo"
      ]
    },
    {
      "cell_type": "code",
      "execution_count": 13,
      "metadata": {
        "id": "eX9dEmAcjc2g"
      },
      "outputs": [],
      "source": [
        "model = Sequential()\n",
        "\n",
        "#Input Layer\n",
        "model.add(layers.Conv2D(128, (1, 1), activation='relu', input_shape=(128, 128, 3)))\n",
        "model.add(layers.MaxPooling2D((1, 1)))\n",
        "\n",
        "#Layer 2\n",
        "model.add(layers.Conv2D(64, (1, 1), activation='relu'))\n",
        "model.add(layers.MaxPooling2D((1, 1)))\n",
        "\n",
        "\n",
        "#Final Layer\n",
        "model.add(layers.Flatten())\n",
        "model.add(layers.Dense(64, activation='relu'))\n",
        "model.add(layers.Dense(23, activation='sigmoid'))\n",
        "\n",
        "\n"
      ]
    },
    {
      "cell_type": "code",
      "execution_count": 14,
      "metadata": {
        "colab": {
          "base_uri": "https://localhost:8080/"
        },
        "id": "U9QL7DfX00BM",
        "outputId": "3c4afadb-29e3-4e24-991c-47d0e21661e6"
      },
      "outputs": [
        {
          "name": "stdout",
          "output_type": "stream",
          "text": [
            "Model: \"sequential\"\n",
            "_________________________________________________________________\n",
            " Layer (type)                Output Shape              Param #   \n",
            "=================================================================\n",
            " conv2d (Conv2D)             (None, 128, 128, 128)     512       \n",
            "                                                                 \n",
            " max_pooling2d (MaxPooling2D  (None, 128, 128, 128)    0         \n",
            " )                                                               \n",
            "                                                                 \n",
            " conv2d_1 (Conv2D)           (None, 128, 128, 64)      8256      \n",
            "                                                                 \n",
            " max_pooling2d_1 (MaxPooling  (None, 128, 128, 64)     0         \n",
            " 2D)                                                             \n",
            "                                                                 \n",
            " flatten (Flatten)           (None, 1048576)           0         \n",
            "                                                                 \n",
            " dense (Dense)               (None, 64)                67108928  \n",
            "                                                                 \n",
            " dense_1 (Dense)             (None, 23)                1495      \n",
            "                                                                 \n",
            "=================================================================\n",
            "Total params: 67,119,191\n",
            "Trainable params: 67,119,191\n",
            "Non-trainable params: 0\n",
            "_________________________________________________________________\n"
          ]
        }
      ],
      "source": [
        "model.summary()"
      ]
    },
    {
      "cell_type": "code",
      "execution_count": 15,
      "metadata": {
        "id": "rbLlvcMnuU4e"
      },
      "outputs": [],
      "source": [
        "model.compile(optimizer='adam', loss='categorical_crossentropy', metrics=['accuracy'])\n",
        "\n"
      ]
    },
    {
      "cell_type": "markdown",
      "metadata": {
        "id": "FLIV-kg51GCM"
      },
      "source": [
        "Separando data"
      ]
    },
    {
      "cell_type": "code",
      "execution_count": 16,
      "metadata": {
        "id": "x2gZUyvBnJEz"
      },
      "outputs": [
        {
          "name": "stdout",
          "output_type": "stream",
          "text": [
            "<class 'numpy.ndarray'>\n",
            "<class 'numpy.ndarray'>\n"
          ]
        },
        {
          "data": {
            "text/plain": [
              "(2387,)"
            ]
          },
          "execution_count": 16,
          "metadata": {},
          "output_type": "execute_result"
        }
      ],
      "source": [
        "target = df['Label_arrays'].to_numpy()\n",
        "feature_matrix = df['Image'].to_numpy()\n",
        "\n",
        "print(type(target))\n",
        "print(type(feature_matrix))\n",
        "\n",
        "#print('Final features:', feature_matrix.columns)\n",
        "\n",
        "#División de datos de entrenamientos y prueba\n",
        "X_train, X_score, y_train, y_score = model_selection.train_test_split(feature_matrix, \n",
        "                                                                      target, \n",
        "                                                                      test_size=0.30, \n",
        "                                                                      random_state=31)\n",
        "\n",
        "X_train.shape\n"
      ]
    },
    {
      "cell_type": "code",
      "execution_count": 17,
      "metadata": {
        "id": "cCf6ydh13e3j"
      },
      "outputs": [
        {
          "name": "stdout",
          "output_type": "stream",
          "text": [
            "(2387, 128, 128, 3) <class 'numpy.ndarray'>\n"
          ]
        }
      ],
      "source": [
        "#Recasting\n",
        "\n",
        "X_train = np.array(X_train.tolist(), dtype=float)\n",
        "X_score = np.array(X_score.tolist(), dtype=float)\n",
        "y_train = np.array(y_train.tolist(), dtype=float)\n",
        "y_score = np.array(y_score.tolist(), dtype=float)\n",
        "\n",
        "'''#Expandiendo dims\n",
        "X_train = np.expand_dims(X_train, axis=2)\n",
        "X_test = np.expand_dims(X_score, axis=2)'''\n",
        "\n",
        "print(X_train.shape, type(X_train))"
      ]
    },
    {
      "cell_type": "code",
      "execution_count": 18,
      "metadata": {},
      "outputs": [
        {
          "name": "stdout",
          "output_type": "stream",
          "text": [
            "(2387, 23)\n",
            "(2387, 128, 128, 3)\n",
            "(1024, 128, 128, 3)\n",
            "(1024, 23)\n",
            "(2387, 23)\n",
            "16384\n"
          ]
        }
      ],
      "source": [
        "#Corrigiendo dims\n",
        "print(y_train.shape)\n",
        "print(X_train.shape)\n",
        "print(X_score.shape)\n",
        "print(y_score.shape)\n",
        "num_classes=y_train.shape\n",
        "number_pix=X_train.shape[1]*X_train.shape[2]\n",
        "print(num_classes)\n",
        "print(number_pix)\n"
      ]
    },
    {
      "cell_type": "markdown",
      "metadata": {
        "id": "6pGkIYP21RCw"
      },
      "source": [
        "Entrenando Modelo"
      ]
    },
    {
      "cell_type": "code",
      "execution_count": 19,
      "metadata": {
        "colab": {
          "base_uri": "https://localhost:8080/",
          "height": 1000
        },
        "id": "6LCu1isdvgXT",
        "outputId": "be1baede-2d62-4184-dda9-d95ad9a59ffb"
      },
      "outputs": [
        {
          "name": "stdout",
          "output_type": "stream",
          "text": [
            "Epoch 1/5\n",
            "75/75 [==============================] - 84s 1s/step - loss: 509.8599 - accuracy: 0.3687 - val_loss: 0.8044 - val_accuracy: 0.7822\n",
            "Epoch 2/5\n",
            "75/75 [==============================] - 83s 1s/step - loss: 1.7836 - accuracy: 0.8550 - val_loss: 0.4206 - val_accuracy: 0.8799\n",
            "Epoch 3/5\n",
            "75/75 [==============================] - 83s 1s/step - loss: 0.3033 - accuracy: 0.9074 - val_loss: 0.4134 - val_accuracy: 0.8779\n",
            "Epoch 4/5\n",
            "75/75 [==============================] - 83s 1s/step - loss: 0.1393 - accuracy: 0.9506 - val_loss: 0.4019 - val_accuracy: 0.8867\n",
            "Epoch 5/5\n",
            "75/75 [==============================] - 82s 1s/step - loss: 0.0859 - accuracy: 0.9648 - val_loss: 0.4238 - val_accuracy: 0.8887\n"
          ]
        },
        {
          "data": {
            "image/png": "[encoded data removed]",
            "text/plain": [
              "<Figure size 432x288 with 1 Axes>"
            ]
          },
          "metadata": {
            "needs_background": "light"
          },
          "output_type": "display_data"
        }
      ],
      "source": [
        "history = model.fit(X_train, y_train, \n",
        "                    epochs=5, \n",
        "                    validation_data=(X_score, y_score), \n",
        "                    verbose=1)\n",
        "\n",
        "history_df = pd.DataFrame({\n",
        "    'loss': history.history['loss'],\n",
        "    'test_loss': history.history['val_loss']\n",
        "})\n",
        "\n",
        "sns.lineplot(data=history_df)\n",
        "plt.show()"
      ]
    },
    {
      "cell_type": "markdown",
      "metadata": {},
      "source": [
        "Guardando modelo"
      ]
    },
    {
      "cell_type": "code",
      "execution_count": 21,
      "metadata": {},
      "outputs": [
        {
          "name": "stdout",
          "output_type": "stream",
          "text": [
            "INFO:tensorflow:Assets written to: ram://97946da0-46c8-4e5f-b47a-4097bfc7b9ba/assets\n"
          ]
        }
      ],
      "source": [
        "#Guardando modelo\n",
        "model.save('model.h5')\n",
        "\n",
        "pickle.dump(model, open('model.pkl', 'wb'))"
      ]
    },
    {
      "cell_type": "markdown",
      "metadata": {},
      "source": [
        "Metricas del modelo"
      ]
    },
    {
      "cell_type": "code",
      "execution_count": 22,
      "metadata": {},
      "outputs": [
        {
          "name": "stdout",
          "output_type": "stream",
          "text": [
            "ROC AUC: 0.939190\n"
          ]
        }
      ],
      "source": [
        "y_pred = model.predict(X_score, verbose=0)\n",
        "\n",
        "\n",
        "auc = roc_auc_score(y_score, y_pred)\n",
        "print('ROC AUC: %f' % auc)"
      ]
    }
  ],
  "metadata": {
    "colab": {
      "collapsed_sections": [],
      "name": "lab07.ipynb",
      "provenance": []
    },
    "interpreter": {
      "hash": "ce6ff8bbdc6af41c7601c15919eb0fc93b04841ad59d7bb98e6aee0cd6449aa0"
    },
    "kernelspec": {
      "display_name": "Python 3.10.4 64-bit",
      "language": "python",
      "name": "python3"
    },
    "language_info": {
      "codemirror_mode": {
        "name": "ipython",
        "version": 3
      },
      "file_extension": ".py",
      "mimetype": "text/x-python",
      "name": "python",
      "nbconvert_exporter": "python",
      "pygments_lexer": "ipython3",
      "version": "3.10.4"
    },
    "orig_nbformat": 4
  },
  "nbformat": 4,
  "nbformat_minor": 0
}
